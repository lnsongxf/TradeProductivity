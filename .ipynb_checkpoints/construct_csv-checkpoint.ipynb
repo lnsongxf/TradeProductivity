{
 "cells": [
  {
   "cell_type": "markdown",
   "metadata": {},
   "source": [
    "<h3>CSV construction</h3>\n",
    "\n",
    "Constructs the basic `csv` files that hold the raw data for the analysis"
   ]
  },
  {
   "cell_type": "code",
   "execution_count": 1,
   "metadata": {
    "collapsed": false
   },
   "outputs": [],
   "source": [
    "user = 'tew207'  # tew207 or rweldzius\n",
    "\n",
    "import numpy as np\n",
    "import pandas as pd\n",
    "import itertools as it\n",
    "\n",
    "years = np.arange(1981, 2015)\n",
    "industries = ['15', '17', '20', '21', '23', '26', '27', '28', '36']\n",
    "countries = ['can', 'mex', 'usa']\n",
    "industry_variables = ['firms', 'imports', 'exports', 'employment', 'markup', 'openness', 'ppi', 'productivity', 'wages', 'fxrate']\n",
    "country_variables = ['gdp', 'cpi', 'fxrate']\n",
    "\n",
    "year = list(it.chain.from_iterable([years]*9))\n",
    "industry = np.repeat(industries,len(years))"
   ]
  },
  {
   "cell_type": "code",
   "execution_count": 2,
   "metadata": {
    "collapsed": false
   },
   "outputs": [],
   "source": [
    "for var in industry_variables:\n",
    "    for country in countries:\n",
    "        df = pd.DataFrame({'year':year, 'industry':industry, var+'_'+country:np.zeros(len(year))})\n",
    "        df = df[['year', 'industry', var+'_'+country]]\n",
    "        df.to_csv('/Users/'+user+'/Dropbox/Trade Paper/Data/Raw/'+str(var)+'_'+str(country)+'.csv', index=False)\n",
    "        \n",
    "for var in country_variables:\n",
    "    for country in countries:\n",
    "        df = pd.DataFrame({'year':years, var+'_'+country:np.zeros(len(years))})\n",
    "        df.to_csv('/Users/'+user+'/Dropbox/Trade Paper/Data/Raw/'+str(var)+'_'+str(country)+'.csv', index=False)"
   ]
  }
 ],
 "metadata": {
  "kernelspec": {
   "display_name": "Python 2",
   "language": "python",
   "name": "python2"
  },
  "language_info": {
   "codemirror_mode": {
    "name": "ipython",
    "version": 2
   },
   "file_extension": ".py",
   "mimetype": "text/x-python",
   "name": "python",
   "nbconvert_exporter": "python",
   "pygments_lexer": "ipython2",
   "version": "2.7.8"
  }
 },
 "nbformat": 4,
 "nbformat_minor": 0
}
