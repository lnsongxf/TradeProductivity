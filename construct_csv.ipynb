{
 "cells": [
  {
   "cell_type": "markdown",
   "metadata": {},
   "source": [
    "<h3>CSV construction</h3>\n",
    "\n",
    "Constructs the basic `csv` files that hold the raw data for the analysis"
   ]
  },
  {
   "cell_type": "code",
   "execution_count": 1,
   "metadata": {
    "collapsed": true
   },
   "outputs": [],
   "source": [
    "import numpy as np\n",
    "import pandas as pd\n",
    "import itertools as it\n",
    "\n",
    "years = np.arange(1981, 2015)\n",
    "industries = ['15', '17', '20', '21', '23', '26', '27', '28', '36']\n",
    "countries = ['can', 'mex', 'usa']\n",
    "variables = ['firms', 'imports', 'exports', 'employment', 'markup', 'openness', 'ppi', 'productivity', 'wages', 'fxrate']\n",
    "\n",
    "year = list(it.chain.from_iterable([years]*27))\n",
    "industry = [np.repeat(industries,len(years))]*3\n",
    "industry = list(it.chain(industry[0],industry[1],industry[2]))"
   ]
  },
  {
   "cell_type": "code",
   "execution_count": 2,
   "metadata": {
    "collapsed": false
   },
   "outputs": [],
   "source": [
    "for var in variables:\n",
    "    for country in countries:\n",
    "        df = pd.DataFrame({'year':year, 'industry':industry, var:np.zeros(len(year))})\n",
    "        df = df[['year', 'industry', var]]\n",
    "        df.to_csv('/Users/tew207/Dropbox/Trade Paper/Data/Raw/'+str(var)+\"_\"+str(country)+\".csv\")"
   ]
  }
 ],
 "metadata": {
  "kernelspec": {
   "display_name": "Python 2",
   "language": "python",
   "name": "python2"
  },
  "language_info": {
   "codemirror_mode": {
    "name": "ipython",
    "version": 2
   },
   "file_extension": ".py",
   "mimetype": "text/x-python",
   "name": "python",
   "nbconvert_exporter": "python",
   "pygments_lexer": "ipython2",
   "version": "2.7.8"
  }
 },
 "nbformat": 4,
 "nbformat_minor": 0
}
